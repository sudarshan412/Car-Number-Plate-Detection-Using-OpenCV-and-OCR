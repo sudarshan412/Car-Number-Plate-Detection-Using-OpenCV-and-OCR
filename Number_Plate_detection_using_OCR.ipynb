{
  "nbformat": 4,
  "nbformat_minor": 0,
  "metadata": {
    "colab": {
      "name": "Number_Plate_detection_using_OCR.ipynb",
      "provenance": [],
      "include_colab_link": true
    },
    "kernelspec": {
      "name": "python3",
      "display_name": "Python 3"
    },
    "language_info": {
      "name": "python"
    }
  },
  "cells": [
    {
      "cell_type": "markdown",
      "metadata": {
        "id": "view-in-github",
        "colab_type": "text"
      },
      "source": [
        "<a href=\"https://colab.research.google.com/github/sudarshan412/Car-Number-Plate-Detection-Using-OpenCV-and-OCR/blob/main/Number_Plate_detection_using_OCR.ipynb\" target=\"_parent\"><img src=\"https://colab.research.google.com/assets/colab-badge.svg\" alt=\"Open In Colab\"/></a>"
      ]
    },
    {
      "cell_type": "markdown",
      "metadata": {
        "id": "D6mJ69V9mQzI"
      },
      "source": [
        "\n",
        "\n",
        "```\n",
        "# This is formatted as code\n",
        "```\n",
        "\n",
        "# Name: Sudarshan Paranjape\n",
        "Computer Vision and Internet of Things\n",
        "\n",
        "Object Detection / Optical Character Recognition (OCR)"
      ]
    },
    {
      "cell_type": "markdown",
      "metadata": {
        "id": "IT57qGht4T-s"
      },
      "source": [
        "**Installing PyTesseract**"
      ]
    },
    {
      "cell_type": "code",
      "metadata": {
        "id": "zAUsSCMu7HpL"
      },
      "source": [
        ""
      ],
      "execution_count": null,
      "outputs": []
    },
    {
      "cell_type": "code",
      "metadata": {
        "colab": {
          "base_uri": "https://localhost:8080/"
        },
        "id": "FdHGdPpiuBLi",
        "outputId": "912c0bc5-e735-451b-ffb9-6e61389296ef"
      },
      "source": [
        "# Installing PyTesseract\n",
        "\n",
        "!sudo apt install tesseract-ocr\n",
        "!pip install pytesseract"
      ],
      "execution_count": 1,
      "outputs": [
        {
          "output_type": "stream",
          "name": "stdout",
          "text": [
            "Reading package lists... Done\n",
            "Building dependency tree       \n",
            "Reading state information... Done\n",
            "The following additional packages will be installed:\n",
            "  tesseract-ocr-eng tesseract-ocr-osd\n",
            "The following NEW packages will be installed:\n",
            "  tesseract-ocr tesseract-ocr-eng tesseract-ocr-osd\n",
            "0 upgraded, 3 newly installed, 0 to remove and 40 not upgraded.\n",
            "Need to get 4,795 kB of archives.\n",
            "After this operation, 15.8 MB of additional disk space will be used.\n",
            "Get:1 http://archive.ubuntu.com/ubuntu bionic/universe amd64 tesseract-ocr-eng all 4.00~git24-0e00fe6-1.2 [1,588 kB]\n",
            "Get:2 http://archive.ubuntu.com/ubuntu bionic/universe amd64 tesseract-ocr-osd all 4.00~git24-0e00fe6-1.2 [2,989 kB]\n",
            "Get:3 http://archive.ubuntu.com/ubuntu bionic/universe amd64 tesseract-ocr amd64 4.00~git2288-10f4998a-2 [218 kB]\n",
            "Fetched 4,795 kB in 1s (5,388 kB/s)\n",
            "debconf: unable to initialize frontend: Dialog\n",
            "debconf: (No usable dialog-like program is installed, so the dialog based frontend cannot be used. at /usr/share/perl5/Debconf/FrontEnd/Dialog.pm line 76, <> line 3.)\n",
            "debconf: falling back to frontend: Readline\n",
            "debconf: unable to initialize frontend: Readline\n",
            "debconf: (This frontend requires a controlling tty.)\n",
            "debconf: falling back to frontend: Teletype\n",
            "dpkg-preconfigure: unable to re-open stdin: \n",
            "Selecting previously unselected package tesseract-ocr-eng.\n",
            "(Reading database ... 148492 files and directories currently installed.)\n",
            "Preparing to unpack .../tesseract-ocr-eng_4.00~git24-0e00fe6-1.2_all.deb ...\n",
            "Unpacking tesseract-ocr-eng (4.00~git24-0e00fe6-1.2) ...\n",
            "Selecting previously unselected package tesseract-ocr-osd.\n",
            "Preparing to unpack .../tesseract-ocr-osd_4.00~git24-0e00fe6-1.2_all.deb ...\n",
            "Unpacking tesseract-ocr-osd (4.00~git24-0e00fe6-1.2) ...\n",
            "Selecting previously unselected package tesseract-ocr.\n",
            "Preparing to unpack .../tesseract-ocr_4.00~git2288-10f4998a-2_amd64.deb ...\n",
            "Unpacking tesseract-ocr (4.00~git2288-10f4998a-2) ...\n",
            "Setting up tesseract-ocr-osd (4.00~git24-0e00fe6-1.2) ...\n",
            "Setting up tesseract-ocr-eng (4.00~git24-0e00fe6-1.2) ...\n",
            "Setting up tesseract-ocr (4.00~git2288-10f4998a-2) ...\n",
            "Processing triggers for man-db (2.8.3-2ubuntu0.1) ...\n",
            "Collecting pytesseract\n",
            "  Downloading pytesseract-0.3.8.tar.gz (14 kB)\n",
            "Requirement already satisfied: Pillow in /usr/local/lib/python3.7/dist-packages (from pytesseract) (7.1.2)\n",
            "Building wheels for collected packages: pytesseract\n",
            "  Building wheel for pytesseract (setup.py) ... \u001b[?25l\u001b[?25hdone\n",
            "  Created wheel for pytesseract: filename=pytesseract-0.3.8-py2.py3-none-any.whl size=14072 sha256=603114a53efd204562871d7f131cdcbd41d5efffcc79dc8111621f8e20598868\n",
            "  Stored in directory: /root/.cache/pip/wheels/a4/89/b9/3f11250225d0f90e5454fcc30fd1b7208db226850715aa9ace\n",
            "Successfully built pytesseract\n",
            "Installing collected packages: pytesseract\n",
            "Successfully installed pytesseract-0.3.8\n"
          ]
        }
      ]
    },
    {
      "cell_type": "markdown",
      "metadata": {
        "id": "zJcb_iSg4Xta"
      },
      "source": [
        "**Importing Libraries**"
      ]
    },
    {
      "cell_type": "code",
      "metadata": {
        "id": "r4kl1sqDzSgR"
      },
      "source": [
        "# Importing Libraries\n",
        "\n",
        "import cv2\n",
        "import numpy as np\n",
        "from matplotlib import pyplot as plt\n",
        "import imutils\n",
        "import pytesseract\n",
        "import shutil\n",
        "import os\n",
        "import random\n",
        "try:\n",
        "  from PIL import Image\n",
        "\n",
        "except ImportError:\n",
        "  import Image"
      ],
      "execution_count": 2,
      "outputs": []
    },
    {
      "cell_type": "markdown",
      "metadata": {
        "id": "loWRdNZT4bcE"
      },
      "source": [
        "**Importing images**"
      ]
    },
    {
      "cell_type": "code",
      "metadata": {
        "colab": {
          "base_uri": "https://localhost:8080/",
          "height": 231
        },
        "id": "_a8NYsQS3LMT",
        "outputId": "a0041fec-d80f-4201-c7a6-2123675a65b5"
      },
      "source": [
        "# Importing images\n",
        "\n",
        "img = cv2.imread (\"car.jpg\")\n",
        "imgr = cv2.resize(img, (620,480) )\n",
        "plt.imshow(cv2.cvtColor(imgr, cv2.COLOR_BGR2RGB)) \n",
        "plt.show()"
      ],
      "execution_count": 3,
      "outputs": [
        {
          "output_type": "error",
          "ename": "error",
          "evalue": "ignored",
          "traceback": [
            "\u001b[0;31m---------------------------------------------------------------------------\u001b[0m",
            "\u001b[0;31merror\u001b[0m                                     Traceback (most recent call last)",
            "\u001b[0;32m<ipython-input-3-8b0b94e82592>\u001b[0m in \u001b[0;36m<module>\u001b[0;34m()\u001b[0m\n\u001b[1;32m      2\u001b[0m \u001b[0;34m\u001b[0m\u001b[0m\n\u001b[1;32m      3\u001b[0m \u001b[0mimg\u001b[0m \u001b[0;34m=\u001b[0m \u001b[0mcv2\u001b[0m\u001b[0;34m.\u001b[0m\u001b[0mimread\u001b[0m \u001b[0;34m(\u001b[0m\u001b[0;34m\"car.jpg\"\u001b[0m\u001b[0;34m)\u001b[0m\u001b[0;34m\u001b[0m\u001b[0;34m\u001b[0m\u001b[0m\n\u001b[0;32m----> 4\u001b[0;31m \u001b[0mimgr\u001b[0m \u001b[0;34m=\u001b[0m \u001b[0mcv2\u001b[0m\u001b[0;34m.\u001b[0m\u001b[0mresize\u001b[0m\u001b[0;34m(\u001b[0m\u001b[0mimg\u001b[0m\u001b[0;34m,\u001b[0m \u001b[0;34m(\u001b[0m\u001b[0;36m620\u001b[0m\u001b[0;34m,\u001b[0m\u001b[0;36m480\u001b[0m\u001b[0;34m)\u001b[0m \u001b[0;34m)\u001b[0m\u001b[0;34m\u001b[0m\u001b[0;34m\u001b[0m\u001b[0m\n\u001b[0m\u001b[1;32m      5\u001b[0m \u001b[0mplt\u001b[0m\u001b[0;34m.\u001b[0m\u001b[0mimshow\u001b[0m\u001b[0;34m(\u001b[0m\u001b[0mcv2\u001b[0m\u001b[0;34m.\u001b[0m\u001b[0mcvtColor\u001b[0m\u001b[0;34m(\u001b[0m\u001b[0mimgr\u001b[0m\u001b[0;34m,\u001b[0m \u001b[0mcv2\u001b[0m\u001b[0;34m.\u001b[0m\u001b[0mCOLOR_BGR2RGB\u001b[0m\u001b[0;34m)\u001b[0m\u001b[0;34m)\u001b[0m\u001b[0;34m\u001b[0m\u001b[0;34m\u001b[0m\u001b[0m\n\u001b[1;32m      6\u001b[0m \u001b[0mplt\u001b[0m\u001b[0;34m.\u001b[0m\u001b[0mshow\u001b[0m\u001b[0;34m(\u001b[0m\u001b[0;34m)\u001b[0m\u001b[0;34m\u001b[0m\u001b[0;34m\u001b[0m\u001b[0m\n",
            "\u001b[0;31merror\u001b[0m: OpenCV(4.1.2) /io/opencv/modules/imgproc/src/resize.cpp:3720: error: (-215:Assertion failed) !ssize.empty() in function 'resize'\n"
          ]
        }
      ]
    },
    {
      "cell_type": "markdown",
      "metadata": {
        "id": "cXcZ-PL_4iwM"
      },
      "source": [
        "**Grayscaling the image**"
      ]
    },
    {
      "cell_type": "code",
      "metadata": {
        "id": "gkkC7rW-407s"
      },
      "source": [
        "# Grayscaling the image\n",
        "gray = cv2.cvtColor(imgr, cv2.COLOR_BGR2GRAY)\n",
        "plt.imshow(gray)\n",
        "plt.gray()"
      ],
      "execution_count": null,
      "outputs": []
    },
    {
      "cell_type": "markdown",
      "metadata": {
        "id": "0TbUym1W4ol6"
      },
      "source": [
        "**Canny Edge Detection**"
      ]
    },
    {
      "cell_type": "code",
      "metadata": {
        "id": "S7SuvibA5CzA"
      },
      "source": [
        "# Canny Edge Detection\n",
        "\n",
        "imgCanny = cv2.Canny(gray, 45, 450)\n",
        "plt.imshow(imgCanny)\n",
        "plt.show()"
      ],
      "execution_count": null,
      "outputs": []
    },
    {
      "cell_type": "markdown",
      "metadata": {
        "id": "mSKaaVgs4xmi"
      },
      "source": [
        "**Contour detection**"
      ]
    },
    {
      "cell_type": "code",
      "metadata": {
        "id": "WDe8Y0g78Cp8"
      },
      "source": [
        "contours=cv2.findContours(imgCanny.copy(),cv2.RETR_TREE,\n",
        "                                            cv2.CHAIN_APPROX_SIMPLE)\n",
        "contours = imutils.grab_contours(contours)\n",
        "contours = sorted(contours,key=cv2.contourArea, reverse = True)[:10]\n",
        "screenCnt = None\n"
      ],
      "execution_count": null,
      "outputs": []
    },
    {
      "cell_type": "code",
      "metadata": {
        "id": "FHEccJ8b9yb3"
      },
      "source": [
        "for c in contours:\n",
        "    # approximate the contour\n",
        "    peri = cv2.arcLength(c, True)\n",
        "    approx = cv2.approxPolyDP(c, 0.018 * peri, True)\n",
        "    # if our approximated contour has four points, then\n",
        "    # we can assume that we have found our screen\n",
        "    if len(approx) == 4:\n",
        "        screenCnt = approx\n",
        "        break"
      ],
      "execution_count": null,
      "outputs": []
    },
    {
      "cell_type": "markdown",
      "metadata": {
        "id": "Elrl7lyf4sF9"
      },
      "source": [
        "**Masking the part other than the number plate**"
      ]
    },
    {
      "cell_type": "code",
      "metadata": {
        "id": "i76y7dJZEYSY"
      },
      "source": [
        "# Masking the part other than the number plate\n",
        "if screenCnt is None:\n",
        "    detected = 0\n",
        "    print (\"No contour detected\")\n",
        "else:\n",
        "     detected = 1\n",
        "\n",
        "if detected == 1:\n",
        "    cv2.drawContours(img, [screenCnt], -1, (0, 0, 255), 3)\n",
        "\n",
        "mask = np.zeros(gray.shape,np.uint8)\n",
        "new_image = cv2.drawContours(mask,[screenCnt],0,255,-1,)\n",
        "new_image = cv2.bitwise_and(gray,gray,mask=mask)\n",
        "plt.imshow(new_image)\n",
        "plt.show()"
      ],
      "execution_count": null,
      "outputs": []
    },
    {
      "cell_type": "code",
      "metadata": {
        "id": "Uou5ecGCUhpw"
      },
      "source": [
        "(x, y) = np.where(mask == 255)\n",
        "(topx, topy) = (np.min(x), np.min(y))\n",
        "(bottomx, bottomy) = (np.max(x), np.max(y))\n",
        "Cropped = gray[topx:bottomx+1, topy:bottomy+1]"
      ],
      "execution_count": null,
      "outputs": []
    },
    {
      "cell_type": "markdown",
      "metadata": {
        "id": "v8wSNY374-vf"
      },
      "source": [
        "**Returning number on license plate**"
      ]
    },
    {
      "cell_type": "code",
      "metadata": {
        "id": "aS-fnjtdWBex"
      },
      "source": [
        "text = pytesseract.image_to_string(Cropped, config='--psm 11')\n",
        "print(\" License Plate Recognition\\n\")\n",
        "print(\"Detected license plate Number is:\",text)\n",
        "img = cv2.resize(img,(500,300))\n",
        "Cropped = cv2.resize(Cropped,(400,200))"
      ],
      "execution_count": null,
      "outputs": []
    }
  ]
}